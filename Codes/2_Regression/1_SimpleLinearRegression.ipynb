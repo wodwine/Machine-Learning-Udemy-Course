{
 "cells": [
  {
   "cell_type": "code",
   "execution_count": null,
   "id": "appointed-secondary",
   "metadata": {},
   "outputs": [],
   "source": [
    "import numpy as np\n",
    "import matplotlib.pyplot as plt\n",
    "import pandas as pd\n",
    "import statsmodels.api as sm"
   ]
  },
  {
   "cell_type": "code",
   "execution_count": null,
   "id": "weird-transportation",
   "metadata": {},
   "outputs": [],
   "source": [
    "data = pd.read_csv(\"../data/Salary_data.csv\")\n",
    "data"
   ]
  },
  {
   "cell_type": "code",
   "execution_count": null,
   "id": "sunrise-conjunction",
   "metadata": {},
   "outputs": [],
   "source": [
    "X = data.drop(\"Salary\",axis=1)\n",
    "y = data[\"Salary\"]"
   ]
  },
  {
   "cell_type": "code",
   "execution_count": null,
   "id": "owned-mississippi",
   "metadata": {},
   "outputs": [],
   "source": [
    "plt.scatter(X,y)"
   ]
  },
  {
   "cell_type": "code",
   "execution_count": null,
   "id": "embedded-steering",
   "metadata": {},
   "outputs": [],
   "source": [
    "x = sm.add_constant(X)\n",
    "results = sm.OLS(y,x).fit()\n",
    "results.summary()"
   ]
  },
  {
   "cell_type": "code",
   "execution_count": null,
   "id": "eligible-excess",
   "metadata": {},
   "outputs": [],
   "source": [
    "results.params"
   ]
  },
  {
   "cell_type": "code",
   "execution_count": null,
   "id": "mediterranean-monroe",
   "metadata": {},
   "outputs": [],
   "source": [
    "y_hat = 9449.962321*X+25792.200199\n",
    "plt.scatter(X,y)\n",
    "plt.plot(X,y_hat,color=\"orange\");"
   ]
  },
  {
   "cell_type": "code",
   "execution_count": null,
   "id": "laden-bundle",
   "metadata": {},
   "outputs": [],
   "source": [
    "from sklearn.model_selection import train_test_split\n",
    "\n",
    "X_train,X_test,y_train,y_test = train_test_split(X,y,test_size=0.2)"
   ]
  },
  {
   "cell_type": "code",
   "execution_count": null,
   "id": "spanish-induction",
   "metadata": {},
   "outputs": [],
   "source": [
    "from sklearn.linear_model import LinearRegression\n",
    "\n",
    "reg = LinearRegression()\n",
    "reg.fit(X_train,y_train)"
   ]
  },
  {
   "cell_type": "code",
   "execution_count": null,
   "id": "warming-editing",
   "metadata": {},
   "outputs": [],
   "source": [
    "reg.score(X_test,y_test)"
   ]
  },
  {
   "cell_type": "code",
   "execution_count": null,
   "id": "generic-margin",
   "metadata": {},
   "outputs": [],
   "source": [
    "plt.scatter(X_train, y_train)\n",
    "plt.plot(X_train, reg.predict(X_train), color = 'orange')\n",
    "plt.title('Salary vs Experience (Training set)')\n",
    "plt.xlabel('Years of Experience')\n",
    "plt.ylabel('Salary')\n",
    "plt.show()"
   ]
  },
  {
   "cell_type": "code",
   "execution_count": null,
   "id": "corresponding-plenty",
   "metadata": {},
   "outputs": [],
   "source": [
    "plt.scatter(X_test, y_test)\n",
    "plt.plot(X_test, reg.predict(X_test), color = 'orange')\n",
    "plt.title('Salary vs Experience (Testing set)')\n",
    "plt.xlabel('Years of Experience')\n",
    "plt.ylabel('Salary')\n",
    "plt.show()"
   ]
  },
  {
   "cell_type": "code",
   "execution_count": null,
   "id": "subjective-checklist",
   "metadata": {},
   "outputs": [],
   "source": []
  }
 ],
 "metadata": {
  "kernelspec": {
   "display_name": "Python 3",
   "language": "python",
   "name": "python3"
  },
  "language_info": {
   "codemirror_mode": {
    "name": "ipython",
    "version": 3
   },
   "file_extension": ".py",
   "mimetype": "text/x-python",
   "name": "python",
   "nbconvert_exporter": "python",
   "pygments_lexer": "ipython3",
   "version": "3.9.1"
  }
 },
 "nbformat": 4,
 "nbformat_minor": 5
}
