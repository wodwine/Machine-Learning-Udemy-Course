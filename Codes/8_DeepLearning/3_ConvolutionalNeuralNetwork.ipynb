{
 "cells": [
  {
   "cell_type": "code",
   "execution_count": 3,
   "id": "polar-maintenance",
   "metadata": {},
   "outputs": [],
   "source": [
    "import tensorflow as tf\n",
    "from tensorflow.keras.preprocessing.image import ImageDataGenerator"
   ]
  },
  {
   "cell_type": "code",
   "execution_count": 2,
   "id": "supported-rotation",
   "metadata": {},
   "outputs": [
    {
     "name": "stdout",
     "output_type": "stream",
     "text": [
      "Found 8000 images belonging to 2 classes.\n"
     ]
    }
   ],
   "source": [
    "# Preprocessing on train set\n",
    "train_datagen = ImageDataGenerator(rescale = 1./255,\n",
    "                                   shear_range = 0.2,\n",
    "                                   zoom_range = 0.2,\n",
    "                                   horizontal_flip = True)\n",
    "training_set = train_datagen.flow_from_directory('dataset/training_set',\n",
    "                                                 target_size = (64, 64),\n",
    "                                                 batch_size = 32,\n",
    "                                                 class_mode = 'binary')"
   ]
  },
  {
   "cell_type": "code",
   "execution_count": 3,
   "id": "excited-treasure",
   "metadata": {},
   "outputs": [
    {
     "name": "stdout",
     "output_type": "stream",
     "text": [
      "Found 2000 images belonging to 2 classes.\n"
     ]
    }
   ],
   "source": [
    "# Preprocessing on test set\n",
    "test_datagen = ImageDataGenerator(rescale = 1./255)\n",
    "test_set = test_datagen.flow_from_directory('dataset/test_set',\n",
    "                                            target_size = (64, 64),\n",
    "                                            batch_size = 32,\n",
    "                                            class_mode = 'binary')"
   ]
  },
  {
   "cell_type": "code",
   "execution_count": 4,
   "id": "hired-blast",
   "metadata": {},
   "outputs": [],
   "source": [
    "# Create the CNN model\n",
    "cnn = tf.keras.models.Sequential()\n",
    "cnn.add(tf.keras.layers.Conv2D(filters=32,kernel_size=3,activation=\"relu\",input_shape=(64,64,3))) # 1. Convolution\n",
    "cnn.add(tf.keras.layers.MaxPool2D(pool_size=2,strides=2)) # 2. Pooling 1\n",
    "cnn.add(tf.keras.layers.Conv2D(filters=32,kernel_size=3,activation=\"relu\"))\n",
    "cnn.add(tf.keras.layers.MaxPool2D(pool_size=2,strides=2))\n",
    "cnn.add(tf.keras.layers.Flatten()) # 3. Flatten\n",
    "cnn.add(tf.keras.layers.Dense(units=128,activation=\"relu\")) # 4. Full connection\n",
    "cnn.add(tf.keras.layers.Dense(units=1,activation=\"sigmoid\")) # 5. Output layer\n",
    "cnn.compile(optimizer=\"adam\",loss=\"binary_crossentropy\",metrics=[\"accuracy\"]) # Compile the CNN model"
   ]
  },
  {
   "cell_type": "code",
   "execution_count": null,
   "id": "quiet-humor",
   "metadata": {},
   "outputs": [
    {
     "name": "stdout",
     "output_type": "stream",
     "text": [
      "Epoch 1/25\n",
      "250/250 [==============================] - 50s 199ms/step - loss: 0.7038 - accuracy: 0.5310 - val_loss: 0.6410 - val_accuracy: 0.6130\n",
      "Epoch 2/25\n",
      "250/250 [==============================] - 45s 182ms/step - loss: 0.6211 - accuracy: 0.6515 - val_loss: 0.7234 - val_accuracy: 0.6100\n",
      "Epoch 3/25\n",
      "250/250 [==============================] - 52s 210ms/step - loss: 0.5807 - accuracy: 0.6961 - val_loss: 0.5381 - val_accuracy: 0.7370\n",
      "Epoch 4/25\n",
      "250/250 [==============================] - 53s 213ms/step - loss: 0.5454 - accuracy: 0.7296 - val_loss: 0.5195 - val_accuracy: 0.7410\n",
      "Epoch 5/25\n",
      "250/250 [==============================] - 52s 207ms/step - loss: 0.5251 - accuracy: 0.7412 - val_loss: 0.5109 - val_accuracy: 0.7520\n",
      "Epoch 6/25\n",
      "250/250 [==============================] - 48s 193ms/step - loss: 0.4889 - accuracy: 0.7618 - val_loss: 0.5088 - val_accuracy: 0.7585\n",
      "Epoch 7/25\n",
      "250/250 [==============================] - 46s 184ms/step - loss: 0.4764 - accuracy: 0.7679 - val_loss: 0.4906 - val_accuracy: 0.7690\n",
      "Epoch 8/25\n",
      "250/250 [==============================] - 46s 185ms/step - loss: 0.4652 - accuracy: 0.7774 - val_loss: 0.4776 - val_accuracy: 0.7770\n",
      "Epoch 9/25\n",
      "250/250 [==============================] - 45s 182ms/step - loss: 0.4547 - accuracy: 0.7850 - val_loss: 0.4664 - val_accuracy: 0.7800\n",
      "Epoch 10/25\n",
      "250/250 [==============================] - 45s 180ms/step - loss: 0.4420 - accuracy: 0.7998 - val_loss: 0.4818 - val_accuracy: 0.7785\n",
      "Epoch 11/25\n",
      "250/250 [==============================] - 46s 183ms/step - loss: 0.4336 - accuracy: 0.8004 - val_loss: 0.4863 - val_accuracy: 0.7905\n",
      "Epoch 12/25\n",
      "250/250 [==============================] - 45s 182ms/step - loss: 0.4337 - accuracy: 0.8004 - val_loss: 0.4837 - val_accuracy: 0.7735\n",
      "Epoch 13/25\n",
      "250/250 [==============================] - 56s 224ms/step - loss: 0.4162 - accuracy: 0.8029 - val_loss: 0.4796 - val_accuracy: 0.7810\n",
      "Epoch 14/25\n",
      "250/250 [==============================] - 46s 182ms/step - loss: 0.4012 - accuracy: 0.8128 - val_loss: 0.4612 - val_accuracy: 0.7935\n",
      "Epoch 15/25\n",
      "250/250 [==============================] - 33s 132ms/step - loss: 0.3719 - accuracy: 0.8285 - val_loss: 0.4718 - val_accuracy: 0.7870\n",
      "Epoch 16/25\n",
      "250/250 [==============================] - 39s 155ms/step - loss: 0.3697 - accuracy: 0.8306 - val_loss: 0.4800 - val_accuracy: 0.7830\n",
      "Epoch 17/25\n",
      "250/250 [==============================] - 43s 172ms/step - loss: 0.3557 - accuracy: 0.8443 - val_loss: 0.5053 - val_accuracy: 0.7640\n",
      "Epoch 18/25\n",
      "250/250 [==============================] - 46s 183ms/step - loss: 0.3623 - accuracy: 0.8367 - val_loss: 0.4342 - val_accuracy: 0.8045\n",
      "Epoch 19/25\n",
      "250/250 [==============================] - 46s 183ms/step - loss: 0.3543 - accuracy: 0.8412 - val_loss: 0.4796 - val_accuracy: 0.8020\n",
      "Epoch 20/25\n",
      "250/250 [==============================] - 46s 183ms/step - loss: 0.3189 - accuracy: 0.8598 - val_loss: 0.4599 - val_accuracy: 0.8010\n",
      "Epoch 21/25\n",
      "250/250 [==============================] - 46s 183ms/step - loss: 0.3265 - accuracy: 0.8551 - val_loss: 0.4662 - val_accuracy: 0.8030\n",
      "Epoch 22/25\n",
      "250/250 [==============================] - 46s 183ms/step - loss: 0.3189 - accuracy: 0.8601 - val_loss: 0.4747 - val_accuracy: 0.8000\n",
      "Epoch 23/25\n",
      "250/250 [==============================] - 46s 182ms/step - loss: 0.3127 - accuracy: 0.8596 - val_loss: 0.4571 - val_accuracy: 0.8045\n",
      "Epoch 24/25\n",
      " 11/250 [>.............................] - ETA: 38s - loss: 0.2702 - accuracy: 0.9000"
     ]
    }
   ],
   "source": [
    "cnn.fit(x=training_set,validation_data=test_set,epochs=25)"
   ]
  },
  {
   "cell_type": "code",
   "execution_count": 1,
   "id": "nuclear-tutorial",
   "metadata": {},
   "outputs": [
    {
     "ename": "NameError",
     "evalue": "name 'cnn' is not defined",
     "output_type": "error",
     "traceback": [
      "\u001b[0;31m---------------------------------------------------------------------------\u001b[0m",
      "\u001b[0;31mNameError\u001b[0m                                 Traceback (most recent call last)",
      "\u001b[0;32m<ipython-input-1-d1d65c7cc47d>\u001b[0m in \u001b[0;36m<module>\u001b[0;34m\u001b[0m\n\u001b[1;32m      6\u001b[0m \u001b[0mtest_img_1\u001b[0m \u001b[0;34m=\u001b[0m \u001b[0mimage\u001b[0m\u001b[0;34m.\u001b[0m\u001b[0mimg_to_array\u001b[0m\u001b[0;34m(\u001b[0m\u001b[0mtest_img_1\u001b[0m\u001b[0;34m)\u001b[0m \u001b[0;31m# Transform picture to array\u001b[0m\u001b[0;34m\u001b[0m\u001b[0;34m\u001b[0m\u001b[0m\n\u001b[1;32m      7\u001b[0m \u001b[0mtest_img_1\u001b[0m \u001b[0;34m=\u001b[0m \u001b[0mnp\u001b[0m\u001b[0;34m.\u001b[0m\u001b[0mexpand_dims\u001b[0m\u001b[0;34m(\u001b[0m\u001b[0mtest_img_1\u001b[0m\u001b[0;34m,\u001b[0m\u001b[0maxis\u001b[0m\u001b[0;34m=\u001b[0m\u001b[0;36m0\u001b[0m\u001b[0;34m)\u001b[0m \u001b[0;31m# Add another dimension for batch\u001b[0m\u001b[0;34m\u001b[0m\u001b[0;34m\u001b[0m\u001b[0m\n\u001b[0;32m----> 8\u001b[0;31m \u001b[0mresult\u001b[0m \u001b[0;34m=\u001b[0m \u001b[0mcnn\u001b[0m\u001b[0;34m.\u001b[0m\u001b[0mpredict\u001b[0m\u001b[0;34m(\u001b[0m\u001b[0mtest_img_1\u001b[0m\u001b[0;34m)\u001b[0m \u001b[0;31m# Predict with the model\u001b[0m\u001b[0;34m\u001b[0m\u001b[0;34m\u001b[0m\u001b[0m\n\u001b[0m",
      "\u001b[0;31mNameError\u001b[0m: name 'cnn' is not defined"
     ]
    }
   ],
   "source": [
    "# Make a prediction on a single test\n",
    "import numpy as np\n",
    "from tensorflow.keras.preprocessing import image\n",
    "\n",
    "test_img_1 = image.load_img(\"dataset/single_prediction/cat_or_dog_3.jpg\",target_size=(64,64)) # Load the picture\n",
    "test_img_1 = image.img_to_array(test_img_1) # Transform picture to array\n",
    "test_img_1 = np.expand_dims(test_img_1,axis=0) # Add another dimension for batch\n",
    "result = cnn.predict(test_img_1) # Predict with the model"
   ]
  },
  {
   "cell_type": "code",
   "execution_count": null,
   "id": "promotional-bridge",
   "metadata": {},
   "outputs": [],
   "source": [
    "training_set.class_indices"
   ]
  },
  {
   "cell_type": "code",
   "execution_count": null,
   "id": "decimal-tumor",
   "metadata": {},
   "outputs": [],
   "source": [
    "if result[0][0]==0:\n",
    "    print(\"Cat\")\n",
    "else:\n",
    "    print(\"Dog\")"
   ]
  },
  {
   "cell_type": "code",
   "execution_count": null,
   "id": "mineral-rolling",
   "metadata": {},
   "outputs": [],
   "source": []
  }
 ],
 "metadata": {
  "kernelspec": {
   "display_name": "Python 3",
   "language": "python",
   "name": "python3"
  },
  "language_info": {
   "codemirror_mode": {
    "name": "ipython",
    "version": 3
   },
   "file_extension": ".py",
   "mimetype": "text/x-python",
   "name": "python",
   "nbconvert_exporter": "python",
   "pygments_lexer": "ipython3",
   "version": "3.8.5"
  }
 },
 "nbformat": 4,
 "nbformat_minor": 5
}
