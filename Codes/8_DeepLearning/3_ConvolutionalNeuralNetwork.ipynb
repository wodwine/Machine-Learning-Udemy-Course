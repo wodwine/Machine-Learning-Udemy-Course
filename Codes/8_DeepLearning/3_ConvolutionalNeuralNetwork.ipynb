{
 "cells": [
  {
   "cell_type": "code",
   "execution_count": 33,
   "id": "polar-maintenance",
   "metadata": {},
   "outputs": [],
   "source": [
    "import tensorflow as tf\n",
    "from tensorflow.keras.preprocessing.image import ImageDataGenerator\n",
    "import numpy as np\n",
    "import matplotlib.pyplot as plt"
   ]
  },
  {
   "cell_type": "code",
   "execution_count": 3,
   "id": "supported-rotation",
   "metadata": {},
   "outputs": [
    {
     "name": "stdout",
     "output_type": "stream",
     "text": [
      "Found 8000 images belonging to 2 classes.\n"
     ]
    }
   ],
   "source": [
    "# Preprocessing on train set\n",
    "train_datagen = ImageDataGenerator(rescale = 1./255,\n",
    "                                   shear_range = 0.2,\n",
    "                                   zoom_range = 0.2,\n",
    "                                   horizontal_flip = True)\n",
    "training_set = train_datagen.flow_from_directory('dataset/training_set',\n",
    "                                                 target_size = (64, 64),\n",
    "                                                 batch_size = 32,\n",
    "                                                 class_mode = 'binary')"
   ]
  },
  {
   "cell_type": "code",
   "execution_count": 4,
   "id": "excited-treasure",
   "metadata": {},
   "outputs": [
    {
     "name": "stdout",
     "output_type": "stream",
     "text": [
      "Found 2000 images belonging to 2 classes.\n"
     ]
    }
   ],
   "source": [
    "# Preprocessing on test set\n",
    "test_datagen = ImageDataGenerator(rescale = 1./255)\n",
    "test_set = test_datagen.flow_from_directory('dataset/test_set',\n",
    "                                            target_size = (64, 64),\n",
    "                                            batch_size = 32,\n",
    "                                            class_mode = 'binary')"
   ]
  },
  {
   "cell_type": "code",
   "execution_count": 5,
   "id": "hired-blast",
   "metadata": {},
   "outputs": [],
   "source": [
    "# Create the CNN model\n",
    "cnn = tf.keras.models.Sequential()\n",
    "cnn.add(tf.keras.layers.Conv2D(filters=32,kernel_size=3,activation=\"relu\",input_shape=(64,64,3))) # 1. Convolution\n",
    "cnn.add(tf.keras.layers.MaxPool2D(pool_size=2,strides=2)) # 2. Pooling 1\n",
    "cnn.add(tf.keras.layers.Conv2D(filters=32,kernel_size=3,activation=\"relu\"))\n",
    "cnn.add(tf.keras.layers.MaxPool2D(pool_size=2,strides=2))\n",
    "cnn.add(tf.keras.layers.Flatten()) # 3. Flatten\n",
    "cnn.add(tf.keras.layers.Dense(units=128,activation=\"relu\")) # 4. Full connection\n",
    "cnn.add(tf.keras.layers.Dense(units=1,activation=\"sigmoid\")) # 5. Output layer\n",
    "cnn.compile(optimizer=\"adam\",loss=\"binary_crossentropy\",metrics=[\"accuracy\"]) # Compile the CNN model"
   ]
  },
  {
   "cell_type": "code",
   "execution_count": 29,
   "id": "quiet-humor",
   "metadata": {},
   "outputs": [
    {
     "name": "stdout",
     "output_type": "stream",
     "text": [
      "Epoch 1/15\n",
      "250/250 [==============================] - 41s 165ms/step - loss: 0.2675 - accuracy: 0.8861 - val_loss: 0.5714 - val_accuracy: 0.7875\n",
      "Epoch 2/15\n",
      "250/250 [==============================] - 43s 171ms/step - loss: 0.2480 - accuracy: 0.8954 - val_loss: 0.5337 - val_accuracy: 0.8040\n",
      "Epoch 3/15\n",
      "250/250 [==============================] - 47s 188ms/step - loss: 0.2452 - accuracy: 0.9009 - val_loss: 0.5216 - val_accuracy: 0.7960\n",
      "Epoch 4/15\n",
      "250/250 [==============================] - 46s 184ms/step - loss: 0.2325 - accuracy: 0.9007 - val_loss: 0.5529 - val_accuracy: 0.7940\n",
      "Epoch 5/15\n",
      "250/250 [==============================] - 47s 189ms/step - loss: 0.2276 - accuracy: 0.9054 - val_loss: 0.5437 - val_accuracy: 0.7935\n",
      "Epoch 6/15\n",
      "250/250 [==============================] - 47s 186ms/step - loss: 0.2099 - accuracy: 0.9149 - val_loss: 0.5523 - val_accuracy: 0.7915\n",
      "Epoch 7/15\n",
      "250/250 [==============================] - 48s 193ms/step - loss: 0.2093 - accuracy: 0.9149 - val_loss: 0.5822 - val_accuracy: 0.7970\n",
      "Epoch 8/15\n",
      "250/250 [==============================] - 54s 215ms/step - loss: 0.1991 - accuracy: 0.9193 - val_loss: 0.5972 - val_accuracy: 0.7890\n",
      "Epoch 9/15\n",
      "250/250 [==============================] - 50s 200ms/step - loss: 0.1854 - accuracy: 0.9259 - val_loss: 0.6306 - val_accuracy: 0.7885\n",
      "Epoch 10/15\n",
      "250/250 [==============================] - 48s 193ms/step - loss: 0.1786 - accuracy: 0.9298 - val_loss: 0.6252 - val_accuracy: 0.7865\n",
      "Epoch 11/15\n",
      "250/250 [==============================] - 49s 198ms/step - loss: 0.1752 - accuracy: 0.9299 - val_loss: 0.6105 - val_accuracy: 0.8020\n",
      "Epoch 12/15\n",
      "250/250 [==============================] - 53s 210ms/step - loss: 0.1647 - accuracy: 0.9354 - val_loss: 0.5991 - val_accuracy: 0.7965\n",
      "Epoch 13/15\n",
      "250/250 [==============================] - 53s 210ms/step - loss: 0.1648 - accuracy: 0.9360 - val_loss: 0.6826 - val_accuracy: 0.7895\n",
      "Epoch 14/15\n",
      "250/250 [==============================] - 50s 200ms/step - loss: 0.1636 - accuracy: 0.9346 - val_loss: 0.6767 - val_accuracy: 0.7960\n",
      "Epoch 15/15\n",
      "250/250 [==============================] - 53s 212ms/step - loss: 0.1560 - accuracy: 0.9405 - val_loss: 0.6860 - val_accuracy: 0.7935\n"
     ]
    }
   ],
   "source": [
    "r = cnn.fit(x=training_set,validation_data=test_set,epochs=15)"
   ]
  },
  {
   "cell_type": "code",
   "execution_count": 30,
   "id": "international-stable",
   "metadata": {},
   "outputs": [],
   "source": [
    "cnn.save(\"models/cat-dog-classification.h5\")"
   ]
  },
  {
   "cell_type": "code",
   "execution_count": 34,
   "id": "systematic-ireland",
   "metadata": {},
   "outputs": [
    {
     "data": {
      "image/png": "[encoded data removed]",
      "text/plain": [
       "<Figure size 432x288 with 1 Axes>"
      ]
     },
     "metadata": {
      "needs_background": "light"
     },
     "output_type": "display_data"
    }
   ],
   "source": [
    "plt.plot(r.history['accuracy'],label='accuracy')\n",
    "plt.plot(r.history['val_accuracy'],label='val_accuracy')\n",
    "plt.legend();"
   ]
  },
  {
   "cell_type": "code",
   "execution_count": null,
   "id": "cosmetic-louisville",
   "metadata": {},
   "outputs": [],
   "source": []
  }
 ],
 "metadata": {
  "kernelspec": {
   "display_name": "Python 3",
   "language": "python",
   "name": "python3"
  },
  "language_info": {
   "codemirror_mode": {
    "name": "ipython",
    "version": 3
   },
   "file_extension": ".py",
   "mimetype": "text/x-python",
   "name": "python",
   "nbconvert_exporter": "python",
   "pygments_lexer": "ipython3",
   "version": "3.8.5"
  }
 },
 "nbformat": 4,
 "nbformat_minor": 5
}
