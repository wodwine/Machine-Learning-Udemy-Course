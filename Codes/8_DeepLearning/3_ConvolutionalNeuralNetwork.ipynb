{
 "cells": [
  {
   "cell_type": "code",
   "execution_count": 3,
   "id": "significant-assets",
   "metadata": {},
   "outputs": [],
   "source": [
    "import tensorflow as tf\n",
    "from tensorflow.keras.preprocessing.image import ImageDataGenerator"
   ]
  },
  {
   "cell_type": "code",
   "execution_count": 6,
   "id": "limiting-naples",
   "metadata": {},
   "outputs": [
    {
     "name": "stdout",
     "output_type": "stream",
     "text": [
      "Found 8000 images belonging to 2 classes.\n"
     ]
    }
   ],
   "source": [
    "# Preprocessing on train set\n",
    "train_datagen = ImageDataGenerator(rescale = 1./255,\n",
    "                                   shear_range = 0.2,\n",
    "                                   zoom_range = 0.2,\n",
    "                                   horizontal_flip = True)\n",
    "training_set = train_datagen.flow_from_directory('dataset/training_set',\n",
    "                                                 target_size = (64, 64),\n",
    "                                                 batch_size = 32,\n",
    "                                                 class_mode = 'binary')"
   ]
  },
  {
   "cell_type": "code",
   "execution_count": 7,
   "id": "aboriginal-oklahoma",
   "metadata": {},
   "outputs": [
    {
     "name": "stdout",
     "output_type": "stream",
     "text": [
      "Found 2000 images belonging to 2 classes.\n"
     ]
    }
   ],
   "source": [
    "# Preprocessing on test set\n",
    "test_datagen = ImageDataGenerator(rescale = 1./255)\n",
    "test_set = test_datagen.flow_from_directory('dataset/test_set',\n",
    "                                            target_size = (64, 64),\n",
    "                                            batch_size = 32,\n",
    "                                            class_mode = 'binary')"
   ]
  },
  {
   "cell_type": "code",
   "execution_count": 12,
   "id": "signed-trouble",
   "metadata": {},
   "outputs": [],
   "source": [
    "# Create the CNN model\n",
    "cnn = tf.keras.models.Sequential()\n",
    "cnn.add(tf.keras.layers.Conv2D(filters=32,kernel_size=3,activation=\"relu\",input_shape=(64,64,3))) # 1. Convolution\n",
    "cnn.add(tf.keras.layers.MaxPool2D(pool_size=2,strides=2)) # 2. Pooling 1\n",
    "cnn.add(tf.keras.layers.Conv2D(filters=32,kernel_size=3,activation=\"relu\"))\n",
    "cnn.add(tf.keras.layers.MaxPool2D(pool_size=2,strides=2))\n",
    "cnn.add(tf.keras.layers.Flatten()) # 3. Flatten\n",
    "cnn.add(tf.keras.layers.Dense(units=128,activation=\"relu\")) # 4. Full connection\n",
    "cnn.add(tf.keras.layers.Dense(units=1,activation=\"sigmoid\")) # 5. Output layer\n",
    "cnn.compile(optimizer=\"adam\",loss=\"binary_crossentropy\",metrics=[\"accuracy\"]) # Compile the CNN model"
   ]
  },
  {
   "cell_type": "code",
   "execution_count": 13,
   "id": "gothic-boxing",
   "metadata": {},
   "outputs": [
    {
     "name": "stdout",
     "output_type": "stream",
     "text": [
      "Epoch 1/25\n",
      "250/250 [==============================] - 45s 176ms/step - loss: 0.7025 - accuracy: 0.5295 - val_loss: 0.6418 - val_accuracy: 0.6115\n",
      "Epoch 2/25\n",
      "250/250 [==============================] - 43s 172ms/step - loss: 0.6238 - accuracy: 0.6567 - val_loss: 0.5668 - val_accuracy: 0.7170\n",
      "Epoch 3/25\n",
      "250/250 [==============================] - 42s 169ms/step - loss: 0.5628 - accuracy: 0.7085 - val_loss: 0.5337 - val_accuracy: 0.7360\n",
      "Epoch 4/25\n",
      "250/250 [==============================] - 43s 170ms/step - loss: 0.5359 - accuracy: 0.7266 - val_loss: 0.5770 - val_accuracy: 0.6940\n",
      "Epoch 5/25\n",
      "250/250 [==============================] - 43s 171ms/step - loss: 0.5164 - accuracy: 0.7385 - val_loss: 0.5058 - val_accuracy: 0.7565\n",
      "Epoch 6/25\n",
      "250/250 [==============================] - 44s 174ms/step - loss: 0.4903 - accuracy: 0.7568 - val_loss: 0.5193 - val_accuracy: 0.7590\n",
      "Epoch 7/25\n",
      "250/250 [==============================] - 45s 179ms/step - loss: 0.4700 - accuracy: 0.7714 - val_loss: 0.4915 - val_accuracy: 0.7670\n",
      "Epoch 8/25\n",
      "250/250 [==============================] - 45s 179ms/step - loss: 0.4581 - accuracy: 0.7811 - val_loss: 0.4825 - val_accuracy: 0.7765\n",
      "Epoch 9/25\n",
      "250/250 [==============================] - 45s 179ms/step - loss: 0.4378 - accuracy: 0.7950 - val_loss: 0.4615 - val_accuracy: 0.7895\n",
      "Epoch 10/25\n",
      "250/250 [==============================] - 46s 182ms/step - loss: 0.4335 - accuracy: 0.7973 - val_loss: 0.4600 - val_accuracy: 0.7840\n",
      "Epoch 11/25\n",
      "250/250 [==============================] - 42s 168ms/step - loss: 0.4236 - accuracy: 0.8045 - val_loss: 0.4508 - val_accuracy: 0.7895\n",
      "Epoch 12/25\n",
      "250/250 [==============================] - 61s 243ms/step - loss: 0.4018 - accuracy: 0.8169 - val_loss: 0.4497 - val_accuracy: 0.8010\n",
      "Epoch 13/25\n",
      "250/250 [==============================] - 47s 189ms/step - loss: 0.3966 - accuracy: 0.8177 - val_loss: 0.4562 - val_accuracy: 0.7930\n",
      "Epoch 14/25\n",
      "250/250 [==============================] - 36s 144ms/step - loss: 0.3877 - accuracy: 0.8200 - val_loss: 0.5030 - val_accuracy: 0.7590\n",
      "Epoch 15/25\n",
      "250/250 [==============================] - 33s 134ms/step - loss: 0.3771 - accuracy: 0.8305 - val_loss: 0.4776 - val_accuracy: 0.7995\n",
      "Epoch 16/25\n",
      "250/250 [==============================] - 37s 147ms/step - loss: 0.3563 - accuracy: 0.8361 - val_loss: 0.4452 - val_accuracy: 0.8055\n",
      "Epoch 17/25\n",
      "250/250 [==============================] - 36s 145ms/step - loss: 0.3425 - accuracy: 0.8463 - val_loss: 0.4923 - val_accuracy: 0.7855\n",
      "Epoch 18/25\n",
      "250/250 [==============================] - 36s 145ms/step - loss: 0.3517 - accuracy: 0.8377 - val_loss: 0.4713 - val_accuracy: 0.8010\n",
      "Epoch 19/25\n",
      "250/250 [==============================] - 37s 147ms/step - loss: 0.3284 - accuracy: 0.8565 - val_loss: 0.4666 - val_accuracy: 0.8065\n",
      "Epoch 20/25\n",
      "250/250 [==============================] - 37s 147ms/step - loss: 0.3180 - accuracy: 0.8617 - val_loss: 0.4479 - val_accuracy: 0.8100\n",
      "Epoch 21/25\n",
      "250/250 [==============================] - 37s 147ms/step - loss: 0.3084 - accuracy: 0.8660 - val_loss: 0.4647 - val_accuracy: 0.7980\n",
      "Epoch 22/25\n",
      "250/250 [==============================] - 37s 149ms/step - loss: 0.2943 - accuracy: 0.8714 - val_loss: 0.4821 - val_accuracy: 0.7875\n",
      "Epoch 23/25\n",
      "250/250 [==============================] - 37s 146ms/step - loss: 0.2882 - accuracy: 0.8806 - val_loss: 0.4958 - val_accuracy: 0.7985\n",
      "Epoch 24/25\n",
      "250/250 [==============================] - 37s 149ms/step - loss: 0.2857 - accuracy: 0.8816 - val_loss: 0.4838 - val_accuracy: 0.8050\n",
      "Epoch 25/25\n",
      "250/250 [==============================] - 36s 145ms/step - loss: 0.2588 - accuracy: 0.8882 - val_loss: 0.4851 - val_accuracy: 0.8065\n"
     ]
    },
    {
     "data": {
      "text/plain": [
       "<tensorflow.python.keras.callbacks.History at 0x7f945777bd68>"
      ]
     },
     "execution_count": 13,
     "metadata": {},
     "output_type": "execute_result"
    }
   ],
   "source": [
    "cnn.fit(x=training_set,validation_data=test_set,epochs=25)"
   ]
  },
  {
   "cell_type": "code",
   "execution_count": 27,
   "id": "opened-lounge",
   "metadata": {},
   "outputs": [],
   "source": [
    "# Make a prediction on a single test\n",
    "import numpy as np\n",
    "from tensorflow.keras.preprocessing import image\n",
    "\n",
    "test_img_1 = image.load_img(\"dataset/single_prediction/cat_or_dog_3.jpg\",target_size=(64,64)) # Load the picture\n",
    "test_img_1 = image.img_to_array(test_img_1) # Transform picture to array\n",
    "test_img_1 = np.expand_dims(test_img_1,axis=0) # Add another dimension for batch\n",
    "result = cnn.predict(test_img_1) # Predict with the model"
   ]
  },
  {
   "cell_type": "code",
   "execution_count": 28,
   "id": "urban-metropolitan",
   "metadata": {},
   "outputs": [
    {
     "data": {
      "text/plain": [
       "{'cats': 0, 'dogs': 1}"
      ]
     },
     "execution_count": 28,
     "metadata": {},
     "output_type": "execute_result"
    }
   ],
   "source": [
    "training_set.class_indices"
   ]
  },
  {
   "cell_type": "code",
   "execution_count": 29,
   "id": "hairy-conviction",
   "metadata": {},
   "outputs": [
    {
     "name": "stdout",
     "output_type": "stream",
     "text": [
      "Dog\n"
     ]
    }
   ],
   "source": [
    "if result[0][0]==0:\n",
    "    print(\"Cat\")\n",
    "else:\n",
    "    print(\"Dog\")"
   ]
  },
  {
   "cell_type": "code",
   "execution_count": null,
   "id": "revised-consortium",
   "metadata": {},
   "outputs": [],
   "source": []
  }
 ],
 "metadata": {
  "kernelspec": {
   "display_name": "Python 3",
   "language": "python",
   "name": "python3"
  },
  "language_info": {
   "codemirror_mode": {
    "name": "ipython",
    "version": 3
   },
   "file_extension": ".py",
   "mimetype": "text/x-python",
   "name": "python",
   "nbconvert_exporter": "python",
   "pygments_lexer": "ipython3",
   "version": "3.7.0"
  }
 },
 "nbformat": 4,
 "nbformat_minor": 5
}
