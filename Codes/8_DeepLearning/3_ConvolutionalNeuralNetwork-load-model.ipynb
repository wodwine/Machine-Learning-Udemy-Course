{
 "cells": [
  {
   "cell_type": "code",
   "execution_count": 2,
   "id": "polar-maintenance",
   "metadata": {},
   "outputs": [],
   "source": [
    "import tensorflow as tf\n",
    "from tensorflow.keras.preprocessing.image import ImageDataGenerator"
   ]
  },
  {
   "cell_type": "code",
   "execution_count": 4,
   "id": "activated-exploration",
   "metadata": {},
   "outputs": [],
   "source": [
    "cnn = tf.keras.models.load_model(\"models/cat-dog-classification.h5\")"
   ]
  },
  {
   "cell_type": "code",
   "execution_count": 11,
   "id": "nuclear-tutorial",
   "metadata": {},
   "outputs": [],
   "source": [
    "# Make a prediction on a single test\n",
    "import numpy as np\n",
    "from tensorflow.keras.preprocessing import image\n",
    "\n",
    "test_img_1 = image.load_img(\"dataset/single_prediction/cat_or_dog_1.jpg\",target_size=(64,64)) # Load the picture\n",
    "test_img_1 = image.img_to_array(test_img_1) # Transform picture to array\n",
    "test_img_1 = np.expand_dims(test_img_1,axis=0) # Add another dimension for batch\n",
    "result = cnn.predict(test_img_1) # Predict with the model"
   ]
  },
  {
   "cell_type": "code",
   "execution_count": 12,
   "id": "decimal-tumor",
   "metadata": {},
   "outputs": [
    {
     "name": "stdout",
     "output_type": "stream",
     "text": [
      "Dog\n"
     ]
    }
   ],
   "source": [
    "if result[0][0]==0:\n",
    "    print(\"Cat\")\n",
    "else:\n",
    "    print(\"Dog\")"
   ]
  },
  {
   "cell_type": "code",
   "execution_count": null,
   "id": "hybrid-colony",
   "metadata": {},
   "outputs": [],
   "source": []
  }
 ],
 "metadata": {
  "kernelspec": {
   "display_name": "Python 3",
   "language": "python",
   "name": "python3"
  },
  "language_info": {
   "codemirror_mode": {
    "name": "ipython",
    "version": 3
   },
   "file_extension": ".py",
   "mimetype": "text/x-python",
   "name": "python",
   "nbconvert_exporter": "python",
   "pygments_lexer": "ipython3",
   "version": "3.8.5"
  }
 },
 "nbformat": 4,
 "nbformat_minor": 5
}
